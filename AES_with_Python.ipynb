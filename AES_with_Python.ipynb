{
  "cells": [
    {
      "cell_type": "markdown",
      "metadata": {
        "id": "view-in-github",
        "colab_type": "text"
      },
      "source": [
        "<a href=\"https://colab.research.google.com/github/Elma-dev/AES_Python/blob/main/AES_with_Python.ipynb\" target=\"_parent\"><img src=\"https://colab.research.google.com/assets/colab-badge.svg\" alt=\"Open In Colab\"/></a>"
      ]
    },
    {
      "cell_type": "code",
      "execution_count": 1,
      "metadata": {
        "colab": {
          "base_uri": "https://localhost:8080/"
        },
        "id": "a6izJJGXMhV0",
        "outputId": "c7e09f09-cdbd-47d9-b3fc-915e54a0fd11"
      },
      "outputs": [
        {
          "output_type": "stream",
          "name": "stdout",
          "text": [
            "Looking in indexes: https://pypi.org/simple, https://us-python.pkg.dev/colab-wheels/public/simple/\n",
            "Requirement already satisfied: pycryptodome in /usr/local/lib/python3.9/dist-packages (3.17)\n"
          ]
        }
      ],
      "source": [
        "#!pip3 uninstall PyCrypto\n",
        "!pip install pycryptodome"
      ]
    },
    {
      "cell_type": "code",
      "execution_count": 2,
      "metadata": {
        "id": "-eTmKQQFMt_t"
      },
      "outputs": [],
      "source": [
        "import hashlib\n",
        "from Crypto import Random\n",
        "from Crypto.Cipher import AES\n",
        "from base64 import b64encode,b64decode"
      ]
    },
    {
      "cell_type": "code",
      "execution_count": 60,
      "metadata": {
        "id": "uW7Y2jesNKE2"
      },
      "outputs": [],
      "source": [
        "import base64\n",
        "class AesEncrypt:\n",
        "  def __init__(self,key): #Key can be of any length\n",
        "    self.block_size=AES.block_size #return block size (128bit)\n",
        "    self.key=hashlib.sha256(key.encode()).digest() #sha256 of the key\n",
        "  #----------------------------Add Characters to text to be a multiple of 128bits------------------------#\n",
        "  def addToBlock(self,text):\n",
        "    number_of_byts_add=self.block_size- len(text) % self.block_size #number bytes for the text to be a multiple of 128 bits.\n",
        "    text_mul_128=text+number_of_byts_add*chr(number_of_byts_add)    #text + x * ascii(x)\n",
        "    return text_mul_128\n",
        "  #-----------------------------Remove the characters added----------------------------------------------#\n",
        "  def remToBlock(self,creptedText):\n",
        "    char=creptedText[-1] #Last Char : number of char we add\n",
        "    nbr=ord(char) #base64 to number(dcimal)\n",
        "    return creptedText[:-nbr]\n",
        "\n",
        "  def encrypt(self,text):\n",
        "    text_mul_128=self.addToBlock(text)\n",
        "    rand_vect=Random.new().read(self.block_size) #new random vect of size 128b\n",
        "    print(rand_vect)\n",
        "    cipher=AES.new(self.key,AES.MODE_CBC,rand_vect) # create new AES object with CBC Mode and rand_vect\n",
        "    text_encrypted=cipher.encrypt(text_mul_128.encode()) #encode to convert text to bits\n",
        "    return b64encode(rand_vect+text_encrypted).decode(\"utf-8\") #add rand_vect and convert bits to char \n",
        "  #-----------------------------Decrytion----------------------------------------------#\n",
        "  def decrypt(self,textEcrypted):\n",
        "    txt=b64decode(textEcrypted) #to bits\n",
        "    random_vect=txt[:self.block_size] #extract the random vect\n",
        "    print(random_vect)\n",
        "    cipher=AES.new(self.key,AES.MODE_CBC,random_vect)\n",
        "    txt=cipher.decrypt(txt[self.block_size:]).decode(\"utf-8\") #decode the text witho vect\n",
        "    return self.remToBlock(txt)\n"
      ]
    },
    {
      "cell_type": "code",
      "execution_count": 61,
      "metadata": {
        "colab": {
          "base_uri": "https://localhost:8080/"
        },
        "id": "9vfKSV9RXJ1y",
        "outputId": "3c6c3c86-a88a-4fbb-8b54-2fe755e6e265"
      },
      "outputs": [
        {
          "output_type": "stream",
          "name": "stdout",
          "text": [
            "b'\\x9c\\xc8\\xebV\\x8fd\\x92>R\\xc5\\x94\\xcaY\\x1f\\xaaO'\n",
            "nMjrVo9kkj5SxZTKWR+qT3kyiyA1A1rlJauuW7aJPLI=\n"
          ]
        }
      ],
      "source": [
        "AesAlg=AesEncrypt(\"abdeljalil\")\n",
        "result=AesAlg.encrypt(\"HEllo Wolrdd\")\n",
        "print(result)"
      ]
    },
    {
      "cell_type": "code",
      "source": [
        "AesAlg.decrypt(result)"
      ],
      "metadata": {
        "id": "TKRtEPfEia98",
        "outputId": "e230de04-b4fa-4bd9-e7d9-4f65f206b9f4",
        "colab": {
          "base_uri": "https://localhost:8080/",
          "height": 52
        }
      },
      "execution_count": 62,
      "outputs": [
        {
          "output_type": "stream",
          "name": "stdout",
          "text": [
            "b'\\x9c\\xc8\\xebV\\x8fd\\x92>R\\xc5\\x94\\xcaY\\x1f\\xaaO'\n"
          ]
        },
        {
          "output_type": "execute_result",
          "data": {
            "text/plain": [
              "'HEllo Wolrdd'"
            ],
            "application/vnd.google.colaboratory.intrinsic+json": {
              "type": "string"
            }
          },
          "metadata": {},
          "execution_count": 62
        }
      ]
    }
  ],
  "metadata": {
    "colab": {
      "provenance": [],
      "authorship_tag": "ABX9TyOG/Ezo6tnoJ03cE7fYjYpT",
      "include_colab_link": true
    },
    "kernelspec": {
      "display_name": "Python 3",
      "name": "python3"
    },
    "language_info": {
      "name": "python"
    }
  },
  "nbformat": 4,
  "nbformat_minor": 0
}